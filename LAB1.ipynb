{
 "cells": [
  {
   "cell_type": "code",
   "execution_count": 108,
   "id": "8318bb9e-b27b-4214-b467-324d63049219",
   "metadata": {},
   "outputs": [],
   "source": [
    "import pandas as pd\n",
    "import numpy as np\n",
    "import matplotlib.pyplot as plt\n",
    "import mysql.connector\n",
    "from mysql.connector import Error"
   ]
  },
  {
   "cell_type": "code",
   "execution_count": 3,
   "id": "4ffa99e8-c276-4656-b0f5-8071c925d3d8",
   "metadata": {},
   "outputs": [],
   "source": [
    "customer_data = pd.read_csv('customers.csv')"
   ]
  },
  {
   "cell_type": "code",
   "execution_count": 5,
   "id": "d4af2ab9-9647-4ff9-93fe-ee1f62ea3e85",
   "metadata": {},
   "outputs": [
    {
     "data": {
      "text/html": [
       "<div>\n",
       "<style scoped>\n",
       "    .dataframe tbody tr th:only-of-type {\n",
       "        vertical-align: middle;\n",
       "    }\n",
       "\n",
       "    .dataframe tbody tr th {\n",
       "        vertical-align: top;\n",
       "    }\n",
       "\n",
       "    .dataframe thead th {\n",
       "        text-align: right;\n",
       "    }\n",
       "</style>\n",
       "<table border=\"1\" class=\"dataframe\">\n",
       "  <thead>\n",
       "    <tr style=\"text-align: right;\">\n",
       "      <th></th>\n",
       "      <th>customer_id</th>\n",
       "      <th>customer_name</th>\n",
       "      <th>email</th>\n",
       "      <th>join_date</th>\n",
       "    </tr>\n",
       "  </thead>\n",
       "  <tbody>\n",
       "    <tr>\n",
       "      <th>0</th>\n",
       "      <td>1</td>\n",
       "      <td>Alice Johnson</td>\n",
       "      <td>alice@example.com</td>\n",
       "      <td>2023-01-15</td>\n",
       "    </tr>\n",
       "    <tr>\n",
       "      <th>1</th>\n",
       "      <td>2</td>\n",
       "      <td>Bob Smith</td>\n",
       "      <td>bob@example.com</td>\n",
       "      <td>2023-02-20</td>\n",
       "    </tr>\n",
       "    <tr>\n",
       "      <th>2</th>\n",
       "      <td>3</td>\n",
       "      <td>Charlie Davis</td>\n",
       "      <td>charlie@example.com</td>\n",
       "      <td>2023-03-05</td>\n",
       "    </tr>\n",
       "    <tr>\n",
       "      <th>3</th>\n",
       "      <td>4</td>\n",
       "      <td>David Lee</td>\n",
       "      <td>david@example.com</td>\n",
       "      <td>2023-03-10</td>\n",
       "    </tr>\n",
       "    <tr>\n",
       "      <th>4</th>\n",
       "      <td>5</td>\n",
       "      <td>Eve Parker</td>\n",
       "      <td>eve@example.com</td>\n",
       "      <td>2023-04-01</td>\n",
       "    </tr>\n",
       "  </tbody>\n",
       "</table>\n",
       "</div>"
      ],
      "text/plain": [
       "   customer_id  customer_name                email   join_date\n",
       "0            1  Alice Johnson    alice@example.com  2023-01-15\n",
       "1            2      Bob Smith      bob@example.com  2023-02-20\n",
       "2            3  Charlie Davis  charlie@example.com  2023-03-05\n",
       "3            4      David Lee    david@example.com  2023-03-10\n",
       "4            5     Eve Parker      eve@example.com  2023-04-01"
      ]
     },
     "execution_count": 5,
     "metadata": {},
     "output_type": "execute_result"
    }
   ],
   "source": [
    "customer_data.head()"
   ]
  },
  {
   "cell_type": "code",
   "execution_count": 7,
   "id": "50c8ab72-d839-4412-be05-65d2b6cc63f2",
   "metadata": {
    "scrolled": true
   },
   "outputs": [
    {
     "name": "stdout",
     "output_type": "stream",
     "text": [
      "<class 'pandas.core.frame.DataFrame'>\n",
      "RangeIndex: 50 entries, 0 to 49\n",
      "Data columns (total 4 columns):\n",
      " #   Column         Non-Null Count  Dtype \n",
      "---  ------         --------------  ----- \n",
      " 0   customer_id    50 non-null     int64 \n",
      " 1   customer_name  50 non-null     object\n",
      " 2   email          50 non-null     object\n",
      " 3   join_date      50 non-null     object\n",
      "dtypes: int64(1), object(3)\n",
      "memory usage: 1.7+ KB\n",
      "None\n"
     ]
    },
    {
     "ename": "NameError",
     "evalue": "name 'inventors' is not defined",
     "output_type": "error",
     "traceback": [
      "\u001b[1;31m---------------------------------------------------------------------------\u001b[0m",
      "\u001b[1;31mNameError\u001b[0m                                 Traceback (most recent call last)",
      "Cell \u001b[1;32mIn[7], line 2\u001b[0m\n\u001b[0;32m      1\u001b[0m \u001b[38;5;28mprint\u001b[39m(customer_data\u001b[38;5;241m.\u001b[39minfo())\n\u001b[1;32m----> 2\u001b[0m \u001b[38;5;28mprint\u001b[39m(inventors\u001b[38;5;241m.\u001b[39minfo())\n",
      "\u001b[1;31mNameError\u001b[0m: name 'inventors' is not defined"
     ]
    }
   ],
   "source": [
    "print(customer_data.info())\n",
    "print(inventors.info())"
   ]
  },
  {
   "cell_type": "code",
   "execution_count": 9,
   "id": "8dd527b1-2554-46ab-9c3f-558b9091ad6b",
   "metadata": {},
   "outputs": [
    {
     "data": {
      "text/plain": [
       "customer_id      0\n",
       "customer_name    0\n",
       "email            0\n",
       "join_date        0\n",
       "dtype: int64"
      ]
     },
     "execution_count": 9,
     "metadata": {},
     "output_type": "execute_result"
    }
   ],
   "source": [
    "customer_data.isnull().sum()"
   ]
  },
  {
   "cell_type": "code",
   "execution_count": 11,
   "id": "2e18ed06-8502-4f01-abe3-bd6246e0ab26",
   "metadata": {},
   "outputs": [
    {
     "data": {
      "text/plain": [
       "customer_id       int64\n",
       "customer_name    object\n",
       "email            object\n",
       "join_date        object\n",
       "dtype: object"
      ]
     },
     "execution_count": 11,
     "metadata": {},
     "output_type": "execute_result"
    }
   ],
   "source": [
    "customer_data.dtypes"
   ]
  },
  {
   "cell_type": "code",
   "execution_count": 13,
   "id": "079e52fc-9684-40c6-b1b4-269ecc01ba5e",
   "metadata": {},
   "outputs": [],
   "source": [
    "customer_data['join_date'] = pd.to_datetime(customer_data['join_date'])"
   ]
  },
  {
   "cell_type": "code",
   "execution_count": null,
   "id": "7a711cbd-732e-422d-9889-86c8702d76e8",
   "metadata": {},
   "outputs": [],
   "source": []
  },
  {
   "cell_type": "code",
   "execution_count": 34,
   "id": "cda5cb23-9c8e-40c7-97da-c1979ce4b1d6",
   "metadata": {
    "scrolled": true
   },
   "outputs": [],
   "source": [
    "# customer_data"
   ]
  },
  {
   "cell_type": "code",
   "execution_count": 15,
   "id": "5ca5ec8b-4da1-4c31-a62c-b85ec47af661",
   "metadata": {},
   "outputs": [
    {
     "data": {
      "text/plain": [
       "0"
      ]
     },
     "execution_count": 15,
     "metadata": {},
     "output_type": "execute_result"
    }
   ],
   "source": [
    "customer_data.duplicated().sum()"
   ]
  },
  {
   "cell_type": "code",
   "execution_count": 17,
   "id": "f511a88b-a7e8-4009-8893-36991c609806",
   "metadata": {},
   "outputs": [],
   "source": [
    "inventors = pd.read_csv(\"inventory.csv\")"
   ]
  },
  {
   "cell_type": "code",
   "execution_count": 19,
   "id": "6e57b33a-4aa9-4d32-9242-ddb43d7d68be",
   "metadata": {},
   "outputs": [
    {
     "data": {
      "text/html": [
       "<div>\n",
       "<style scoped>\n",
       "    .dataframe tbody tr th:only-of-type {\n",
       "        vertical-align: middle;\n",
       "    }\n",
       "\n",
       "    .dataframe tbody tr th {\n",
       "        vertical-align: top;\n",
       "    }\n",
       "\n",
       "    .dataframe thead th {\n",
       "        text-align: right;\n",
       "    }\n",
       "</style>\n",
       "<table border=\"1\" class=\"dataframe\">\n",
       "  <thead>\n",
       "    <tr style=\"text-align: right;\">\n",
       "      <th></th>\n",
       "      <th>product_name</th>\n",
       "      <th>stock_quantity</th>\n",
       "      <th>stock_date</th>\n",
       "      <th>supplier</th>\n",
       "      <th>warehouse_location</th>\n",
       "    </tr>\n",
       "  </thead>\n",
       "  <tbody>\n",
       "    <tr>\n",
       "      <th>0</th>\n",
       "      <td>Sugar</td>\n",
       "      <td>162</td>\n",
       "      <td>11/3/2024</td>\n",
       "      <td>Supplier D</td>\n",
       "      <td>Warehouse 3</td>\n",
       "    </tr>\n",
       "    <tr>\n",
       "      <th>1</th>\n",
       "      <td>Tablet</td>\n",
       "      <td>243</td>\n",
       "      <td>10/30/2024</td>\n",
       "      <td>Supplier C</td>\n",
       "      <td>Warehouse 2</td>\n",
       "    </tr>\n",
       "    <tr>\n",
       "      <th>2</th>\n",
       "      <td>Jeans</td>\n",
       "      <td>223</td>\n",
       "      <td>10/24/2024</td>\n",
       "      <td>Supplier B</td>\n",
       "      <td>Warehouse 3</td>\n",
       "    </tr>\n",
       "    <tr>\n",
       "      <th>3</th>\n",
       "      <td>Women's Jacket</td>\n",
       "      <td>187</td>\n",
       "      <td>8/31/2024</td>\n",
       "      <td>Supplier E</td>\n",
       "      <td>Warehouse 3</td>\n",
       "    </tr>\n",
       "    <tr>\n",
       "      <th>4</th>\n",
       "      <td>Blender</td>\n",
       "      <td>101</td>\n",
       "      <td>11/6/2024</td>\n",
       "      <td>Supplier E</td>\n",
       "      <td>Warehouse 1</td>\n",
       "    </tr>\n",
       "  </tbody>\n",
       "</table>\n",
       "</div>"
      ],
      "text/plain": [
       "     product_name  stock_quantity  stock_date    supplier warehouse_location\n",
       "0           Sugar             162   11/3/2024  Supplier D        Warehouse 3\n",
       "1          Tablet             243  10/30/2024  Supplier C        Warehouse 2\n",
       "2           Jeans             223  10/24/2024  Supplier B        Warehouse 3\n",
       "3  Women's Jacket             187   8/31/2024  Supplier E        Warehouse 3\n",
       "4         Blender             101   11/6/2024  Supplier E        Warehouse 1"
      ]
     },
     "execution_count": 19,
     "metadata": {},
     "output_type": "execute_result"
    }
   ],
   "source": [
    "inventors.head()"
   ]
  },
  {
   "cell_type": "code",
   "execution_count": 21,
   "id": "2f3caeb4-49cb-4d03-880a-9449b1848cde",
   "metadata": {},
   "outputs": [
    {
     "data": {
      "text/plain": [
       "product_name          0\n",
       "stock_quantity        0\n",
       "stock_date            0\n",
       "supplier              0\n",
       "warehouse_location    0\n",
       "dtype: int64"
      ]
     },
     "execution_count": 21,
     "metadata": {},
     "output_type": "execute_result"
    }
   ],
   "source": [
    "inventors.isnull().sum()"
   ]
  },
  {
   "cell_type": "code",
   "execution_count": 23,
   "id": "b8f2b092-2db5-4277-997b-f67d55434b18",
   "metadata": {},
   "outputs": [
    {
     "data": {
      "text/plain": [
       "product_name          object\n",
       "stock_quantity         int64\n",
       "stock_date            object\n",
       "supplier              object\n",
       "warehouse_location    object\n",
       "dtype: object"
      ]
     },
     "execution_count": 23,
     "metadata": {},
     "output_type": "execute_result"
    }
   ],
   "source": [
    "inventors.dtypes"
   ]
  },
  {
   "cell_type": "code",
   "execution_count": 25,
   "id": "05561928-836c-47aa-b080-730c84fae446",
   "metadata": {},
   "outputs": [],
   "source": [
    "inventors['stock_date'] = pd.to_datetime(inventors['stock_date'])"
   ]
  },
  {
   "cell_type": "code",
   "execution_count": 27,
   "id": "d273ffec-7863-48ae-9059-baab2328b141",
   "metadata": {},
   "outputs": [
    {
     "data": {
      "text/plain": [
       "0"
      ]
     },
     "execution_count": 27,
     "metadata": {},
     "output_type": "execute_result"
    }
   ],
   "source": [
    "inventors.duplicated().sum()"
   ]
  },
  {
   "cell_type": "code",
   "execution_count": 29,
   "id": "3daf8310-41d2-480e-b118-aa25b3350e21",
   "metadata": {},
   "outputs": [],
   "source": [
    "orders_item = pd.read_csv('order_items.csv')"
   ]
  },
  {
   "cell_type": "code",
   "execution_count": 31,
   "id": "7c7acb38-d55f-410c-98a1-09e0299617ec",
   "metadata": {},
   "outputs": [
    {
     "data": {
      "text/html": [
       "<div>\n",
       "<style scoped>\n",
       "    .dataframe tbody tr th:only-of-type {\n",
       "        vertical-align: middle;\n",
       "    }\n",
       "\n",
       "    .dataframe tbody tr th {\n",
       "        vertical-align: top;\n",
       "    }\n",
       "\n",
       "    .dataframe thead th {\n",
       "        text-align: right;\n",
       "    }\n",
       "</style>\n",
       "<table border=\"1\" class=\"dataframe\">\n",
       "  <thead>\n",
       "    <tr style=\"text-align: right;\">\n",
       "      <th></th>\n",
       "      <th>order_detail_id</th>\n",
       "      <th>order_id</th>\n",
       "      <th>quantity</th>\n",
       "      <th>product_id</th>\n",
       "    </tr>\n",
       "  </thead>\n",
       "  <tbody>\n",
       "    <tr>\n",
       "      <th>0</th>\n",
       "      <td>1</td>\n",
       "      <td>1</td>\n",
       "      <td>3</td>\n",
       "      <td>34</td>\n",
       "    </tr>\n",
       "    <tr>\n",
       "      <th>1</th>\n",
       "      <td>2</td>\n",
       "      <td>1</td>\n",
       "      <td>2</td>\n",
       "      <td>47</td>\n",
       "    </tr>\n",
       "    <tr>\n",
       "      <th>2</th>\n",
       "      <td>3</td>\n",
       "      <td>2</td>\n",
       "      <td>4</td>\n",
       "      <td>10</td>\n",
       "    </tr>\n",
       "    <tr>\n",
       "      <th>3</th>\n",
       "      <td>4</td>\n",
       "      <td>2</td>\n",
       "      <td>3</td>\n",
       "      <td>77</td>\n",
       "    </tr>\n",
       "    <tr>\n",
       "      <th>4</th>\n",
       "      <td>5</td>\n",
       "      <td>3</td>\n",
       "      <td>2</td>\n",
       "      <td>76</td>\n",
       "    </tr>\n",
       "  </tbody>\n",
       "</table>\n",
       "</div>"
      ],
      "text/plain": [
       "   order_detail_id  order_id  quantity  product_id\n",
       "0                1         1         3          34\n",
       "1                2         1         2          47\n",
       "2                3         2         4          10\n",
       "3                4         2         3          77\n",
       "4                5         3         2          76"
      ]
     },
     "execution_count": 31,
     "metadata": {},
     "output_type": "execute_result"
    }
   ],
   "source": [
    "orders_item.head()"
   ]
  },
  {
   "cell_type": "code",
   "execution_count": 33,
   "id": "3176f40c-97a4-41fb-a7a8-22bff79e251e",
   "metadata": {},
   "outputs": [
    {
     "data": {
      "text/plain": [
       "order_detail_id    int64\n",
       "order_id           int64\n",
       "quantity           int64\n",
       "product_id         int64\n",
       "dtype: object"
      ]
     },
     "execution_count": 33,
     "metadata": {},
     "output_type": "execute_result"
    }
   ],
   "source": [
    "orders_item.dtypes"
   ]
  },
  {
   "cell_type": "code",
   "execution_count": 35,
   "id": "621a3bca-eefb-47b1-893d-7c005d0754ce",
   "metadata": {},
   "outputs": [
    {
     "data": {
      "text/plain": [
       "0"
      ]
     },
     "execution_count": 35,
     "metadata": {},
     "output_type": "execute_result"
    }
   ],
   "source": [
    "orders_item.duplicated().sum()"
   ]
  },
  {
   "cell_type": "raw",
   "id": "47764e5c-125f-4243-9899-faa1c0c6e67d",
   "metadata": {},
   "source": []
  },
  {
   "cell_type": "code",
   "execution_count": 37,
   "id": "af52b510-6931-4be7-b3a4-ac26b16876e0",
   "metadata": {},
   "outputs": [],
   "source": [
    "orders = pd.read_csv('Orders.csv')"
   ]
  },
  {
   "cell_type": "code",
   "execution_count": 39,
   "id": "ec31ed4b-597d-4d18-96a6-e11c145efd64",
   "metadata": {},
   "outputs": [
    {
     "data": {
      "text/html": [
       "<div>\n",
       "<style scoped>\n",
       "    .dataframe tbody tr th:only-of-type {\n",
       "        vertical-align: middle;\n",
       "    }\n",
       "\n",
       "    .dataframe tbody tr th {\n",
       "        vertical-align: top;\n",
       "    }\n",
       "\n",
       "    .dataframe thead th {\n",
       "        text-align: right;\n",
       "    }\n",
       "</style>\n",
       "<table border=\"1\" class=\"dataframe\">\n",
       "  <thead>\n",
       "    <tr style=\"text-align: right;\">\n",
       "      <th></th>\n",
       "      <th>order_id</th>\n",
       "      <th>Cutomer_id</th>\n",
       "      <th>order_date</th>\n",
       "      <th>product_id</th>\n",
       "      <th>quantity</th>\n",
       "    </tr>\n",
       "  </thead>\n",
       "  <tbody>\n",
       "    <tr>\n",
       "      <th>0</th>\n",
       "      <td>1</td>\n",
       "      <td>20</td>\n",
       "      <td>11/1/2024</td>\n",
       "      <td>3</td>\n",
       "      <td>2</td>\n",
       "    </tr>\n",
       "    <tr>\n",
       "      <th>1</th>\n",
       "      <td>2</td>\n",
       "      <td>36</td>\n",
       "      <td>11/1/2024</td>\n",
       "      <td>1</td>\n",
       "      <td>1</td>\n",
       "    </tr>\n",
       "    <tr>\n",
       "      <th>2</th>\n",
       "      <td>3</td>\n",
       "      <td>1</td>\n",
       "      <td>11/1/2024</td>\n",
       "      <td>8</td>\n",
       "      <td>3</td>\n",
       "    </tr>\n",
       "    <tr>\n",
       "      <th>3</th>\n",
       "      <td>4</td>\n",
       "      <td>36</td>\n",
       "      <td>11/2/2024</td>\n",
       "      <td>6</td>\n",
       "      <td>1</td>\n",
       "    </tr>\n",
       "    <tr>\n",
       "      <th>4</th>\n",
       "      <td>5</td>\n",
       "      <td>14</td>\n",
       "      <td>11/2/2024</td>\n",
       "      <td>12</td>\n",
       "      <td>2</td>\n",
       "    </tr>\n",
       "  </tbody>\n",
       "</table>\n",
       "</div>"
      ],
      "text/plain": [
       "   order_id  Cutomer_id order_date  product_id  quantity\n",
       "0         1          20  11/1/2024           3         2\n",
       "1         2          36  11/1/2024           1         1\n",
       "2         3           1  11/1/2024           8         3\n",
       "3         4          36  11/2/2024           6         1\n",
       "4         5          14  11/2/2024          12         2"
      ]
     },
     "execution_count": 39,
     "metadata": {},
     "output_type": "execute_result"
    }
   ],
   "source": [
    "orders.head()"
   ]
  },
  {
   "cell_type": "code",
   "execution_count": 41,
   "id": "d0f24cc0-840b-49f2-90d9-b40eedcdc4a1",
   "metadata": {},
   "outputs": [],
   "source": [
    "orders['order_date'] = pd.to_datetime(orders['order_date'])"
   ]
  },
  {
   "cell_type": "code",
   "execution_count": 43,
   "id": "820fe059-6da4-46d3-b121-1cbba97f953b",
   "metadata": {},
   "outputs": [
    {
     "data": {
      "text/plain": [
       "order_id               int64\n",
       "Cutomer_id             int64\n",
       "order_date    datetime64[ns]\n",
       "product_id             int64\n",
       "quantity               int64\n",
       "dtype: object"
      ]
     },
     "execution_count": 43,
     "metadata": {},
     "output_type": "execute_result"
    }
   ],
   "source": [
    "orders.dtypes"
   ]
  },
  {
   "cell_type": "code",
   "execution_count": 45,
   "id": "76e20863-e113-4788-9bd8-ab6e80833a97",
   "metadata": {},
   "outputs": [
    {
     "data": {
      "text/plain": [
       "order_id      0\n",
       "Cutomer_id    0\n",
       "order_date    0\n",
       "product_id    0\n",
       "quantity      0\n",
       "dtype: int64"
      ]
     },
     "execution_count": 45,
     "metadata": {},
     "output_type": "execute_result"
    }
   ],
   "source": [
    "orders.isnull().sum()"
   ]
  },
  {
   "cell_type": "code",
   "execution_count": 47,
   "id": "ab4c58d8-4d8a-4697-a0b1-4cfc94536118",
   "metadata": {},
   "outputs": [
    {
     "data": {
      "text/plain": [
       "0"
      ]
     },
     "execution_count": 47,
     "metadata": {},
     "output_type": "execute_result"
    }
   ],
   "source": [
    "orders.duplicated().sum()"
   ]
  },
  {
   "cell_type": "code",
   "execution_count": 49,
   "id": "6112d107-1795-41b4-9754-796aafa7db1c",
   "metadata": {},
   "outputs": [],
   "source": [
    "orders['year'] = orders['order_date'].dt.year\n",
    "orders['month'] = orders['order_date'].dt.month\n",
    "orders['day'] = orders['order_date'].dt.day"
   ]
  },
  {
   "cell_type": "code",
   "execution_count": 51,
   "id": "3ab2bb50-4b1e-4666-9755-fb1390fd9258",
   "metadata": {},
   "outputs": [
    {
     "data": {
      "text/html": [
       "<div>\n",
       "<style scoped>\n",
       "    .dataframe tbody tr th:only-of-type {\n",
       "        vertical-align: middle;\n",
       "    }\n",
       "\n",
       "    .dataframe tbody tr th {\n",
       "        vertical-align: top;\n",
       "    }\n",
       "\n",
       "    .dataframe thead th {\n",
       "        text-align: right;\n",
       "    }\n",
       "</style>\n",
       "<table border=\"1\" class=\"dataframe\">\n",
       "  <thead>\n",
       "    <tr style=\"text-align: right;\">\n",
       "      <th></th>\n",
       "      <th>order_id</th>\n",
       "      <th>Cutomer_id</th>\n",
       "      <th>order_date</th>\n",
       "      <th>product_id</th>\n",
       "      <th>quantity</th>\n",
       "      <th>year</th>\n",
       "      <th>month</th>\n",
       "      <th>day</th>\n",
       "    </tr>\n",
       "  </thead>\n",
       "  <tbody>\n",
       "    <tr>\n",
       "      <th>0</th>\n",
       "      <td>1</td>\n",
       "      <td>20</td>\n",
       "      <td>2024-11-01</td>\n",
       "      <td>3</td>\n",
       "      <td>2</td>\n",
       "      <td>2024</td>\n",
       "      <td>11</td>\n",
       "      <td>1</td>\n",
       "    </tr>\n",
       "    <tr>\n",
       "      <th>1</th>\n",
       "      <td>2</td>\n",
       "      <td>36</td>\n",
       "      <td>2024-11-01</td>\n",
       "      <td>1</td>\n",
       "      <td>1</td>\n",
       "      <td>2024</td>\n",
       "      <td>11</td>\n",
       "      <td>1</td>\n",
       "    </tr>\n",
       "    <tr>\n",
       "      <th>2</th>\n",
       "      <td>3</td>\n",
       "      <td>1</td>\n",
       "      <td>2024-11-01</td>\n",
       "      <td>8</td>\n",
       "      <td>3</td>\n",
       "      <td>2024</td>\n",
       "      <td>11</td>\n",
       "      <td>1</td>\n",
       "    </tr>\n",
       "    <tr>\n",
       "      <th>3</th>\n",
       "      <td>4</td>\n",
       "      <td>36</td>\n",
       "      <td>2024-11-02</td>\n",
       "      <td>6</td>\n",
       "      <td>1</td>\n",
       "      <td>2024</td>\n",
       "      <td>11</td>\n",
       "      <td>2</td>\n",
       "    </tr>\n",
       "    <tr>\n",
       "      <th>4</th>\n",
       "      <td>5</td>\n",
       "      <td>14</td>\n",
       "      <td>2024-11-02</td>\n",
       "      <td>12</td>\n",
       "      <td>2</td>\n",
       "      <td>2024</td>\n",
       "      <td>11</td>\n",
       "      <td>2</td>\n",
       "    </tr>\n",
       "  </tbody>\n",
       "</table>\n",
       "</div>"
      ],
      "text/plain": [
       "   order_id  Cutomer_id order_date  product_id  quantity  year  month  day\n",
       "0         1          20 2024-11-01           3         2  2024     11    1\n",
       "1         2          36 2024-11-01           1         1  2024     11    1\n",
       "2         3           1 2024-11-01           8         3  2024     11    1\n",
       "3         4          36 2024-11-02           6         1  2024     11    2\n",
       "4         5          14 2024-11-02          12         2  2024     11    2"
      ]
     },
     "execution_count": 51,
     "metadata": {},
     "output_type": "execute_result"
    }
   ],
   "source": [
    "orders.head()"
   ]
  },
  {
   "cell_type": "code",
   "execution_count": 53,
   "id": "e53d667d-c812-4acd-a537-02b208b372b3",
   "metadata": {
    "scrolled": true
   },
   "outputs": [],
   "source": [
    "orders.rename(columns={'Cutomer_id':'customer_id'},inplace=True)\n",
    "# # revenue = pd.concat([orders,products],ignore_index=True)\n",
    "# orders.drop(columns=['total_revenue'],inplace=True)"
   ]
  },
  {
   "cell_type": "code",
   "execution_count": 55,
   "id": "d01a571a-706a-44eb-a40b-7bca804d8a01",
   "metadata": {},
   "outputs": [
    {
     "data": {
      "text/html": [
       "<div>\n",
       "<style scoped>\n",
       "    .dataframe tbody tr th:only-of-type {\n",
       "        vertical-align: middle;\n",
       "    }\n",
       "\n",
       "    .dataframe tbody tr th {\n",
       "        vertical-align: top;\n",
       "    }\n",
       "\n",
       "    .dataframe thead th {\n",
       "        text-align: right;\n",
       "    }\n",
       "</style>\n",
       "<table border=\"1\" class=\"dataframe\">\n",
       "  <thead>\n",
       "    <tr style=\"text-align: right;\">\n",
       "      <th></th>\n",
       "      <th>order_id</th>\n",
       "      <th>customer_id</th>\n",
       "      <th>order_date</th>\n",
       "      <th>product_id</th>\n",
       "      <th>quantity</th>\n",
       "      <th>year</th>\n",
       "      <th>month</th>\n",
       "      <th>day</th>\n",
       "    </tr>\n",
       "  </thead>\n",
       "  <tbody>\n",
       "    <tr>\n",
       "      <th>0</th>\n",
       "      <td>1</td>\n",
       "      <td>20</td>\n",
       "      <td>2024-11-01</td>\n",
       "      <td>3</td>\n",
       "      <td>2</td>\n",
       "      <td>2024</td>\n",
       "      <td>11</td>\n",
       "      <td>1</td>\n",
       "    </tr>\n",
       "    <tr>\n",
       "      <th>1</th>\n",
       "      <td>2</td>\n",
       "      <td>36</td>\n",
       "      <td>2024-11-01</td>\n",
       "      <td>1</td>\n",
       "      <td>1</td>\n",
       "      <td>2024</td>\n",
       "      <td>11</td>\n",
       "      <td>1</td>\n",
       "    </tr>\n",
       "    <tr>\n",
       "      <th>2</th>\n",
       "      <td>3</td>\n",
       "      <td>1</td>\n",
       "      <td>2024-11-01</td>\n",
       "      <td>8</td>\n",
       "      <td>3</td>\n",
       "      <td>2024</td>\n",
       "      <td>11</td>\n",
       "      <td>1</td>\n",
       "    </tr>\n",
       "    <tr>\n",
       "      <th>3</th>\n",
       "      <td>4</td>\n",
       "      <td>36</td>\n",
       "      <td>2024-11-02</td>\n",
       "      <td>6</td>\n",
       "      <td>1</td>\n",
       "      <td>2024</td>\n",
       "      <td>11</td>\n",
       "      <td>2</td>\n",
       "    </tr>\n",
       "    <tr>\n",
       "      <th>4</th>\n",
       "      <td>5</td>\n",
       "      <td>14</td>\n",
       "      <td>2024-11-02</td>\n",
       "      <td>12</td>\n",
       "      <td>2</td>\n",
       "      <td>2024</td>\n",
       "      <td>11</td>\n",
       "      <td>2</td>\n",
       "    </tr>\n",
       "  </tbody>\n",
       "</table>\n",
       "</div>"
      ],
      "text/plain": [
       "   order_id  customer_id order_date  product_id  quantity  year  month  day\n",
       "0         1           20 2024-11-01           3         2  2024     11    1\n",
       "1         2           36 2024-11-01           1         1  2024     11    1\n",
       "2         3            1 2024-11-01           8         3  2024     11    1\n",
       "3         4           36 2024-11-02           6         1  2024     11    2\n",
       "4         5           14 2024-11-02          12         2  2024     11    2"
      ]
     },
     "execution_count": 55,
     "metadata": {},
     "output_type": "execute_result"
    }
   ],
   "source": [
    "orders.head()"
   ]
  },
  {
   "cell_type": "code",
   "execution_count": 57,
   "id": "f5beb9ac-2370-4d44-9330-5094d2db092b",
   "metadata": {},
   "outputs": [],
   "source": [
    "products = pd.read_csv(\"products.csv\")"
   ]
  },
  {
   "cell_type": "code",
   "execution_count": 59,
   "id": "5d91f153-673f-4b6c-a624-baf936670f34",
   "metadata": {},
   "outputs": [
    {
     "data": {
      "text/html": [
       "<div>\n",
       "<style scoped>\n",
       "    .dataframe tbody tr th:only-of-type {\n",
       "        vertical-align: middle;\n",
       "    }\n",
       "\n",
       "    .dataframe tbody tr th {\n",
       "        vertical-align: top;\n",
       "    }\n",
       "\n",
       "    .dataframe thead th {\n",
       "        text-align: right;\n",
       "    }\n",
       "</style>\n",
       "<table border=\"1\" class=\"dataframe\">\n",
       "  <thead>\n",
       "    <tr style=\"text-align: right;\">\n",
       "      <th></th>\n",
       "      <th>product_id</th>\n",
       "      <th>product_name</th>\n",
       "      <th>category</th>\n",
       "      <th>price</th>\n",
       "    </tr>\n",
       "  </thead>\n",
       "  <tbody>\n",
       "    <tr>\n",
       "      <th>0</th>\n",
       "      <td>1</td>\n",
       "      <td>Laptop</td>\n",
       "      <td>Electronics</td>\n",
       "      <td>1200.0</td>\n",
       "    </tr>\n",
       "    <tr>\n",
       "      <th>1</th>\n",
       "      <td>2</td>\n",
       "      <td>Smartphone</td>\n",
       "      <td>Electronics</td>\n",
       "      <td>800.0</td>\n",
       "    </tr>\n",
       "    <tr>\n",
       "      <th>2</th>\n",
       "      <td>3</td>\n",
       "      <td>Tablet</td>\n",
       "      <td>Electronics</td>\n",
       "      <td>450.0</td>\n",
       "    </tr>\n",
       "    <tr>\n",
       "      <th>3</th>\n",
       "      <td>4</td>\n",
       "      <td>Wireless Mouse</td>\n",
       "      <td>Electronics</td>\n",
       "      <td>25.0</td>\n",
       "    </tr>\n",
       "    <tr>\n",
       "      <th>4</th>\n",
       "      <td>5</td>\n",
       "      <td>Keyboard</td>\n",
       "      <td>Electronics</td>\n",
       "      <td>50.0</td>\n",
       "    </tr>\n",
       "  </tbody>\n",
       "</table>\n",
       "</div>"
      ],
      "text/plain": [
       "   product_id    product_name     category   price\n",
       "0           1          Laptop  Electronics  1200.0\n",
       "1           2      Smartphone  Electronics   800.0\n",
       "2           3          Tablet  Electronics   450.0\n",
       "3           4  Wireless Mouse  Electronics    25.0\n",
       "4           5        Keyboard  Electronics    50.0"
      ]
     },
     "execution_count": 59,
     "metadata": {},
     "output_type": "execute_result"
    }
   ],
   "source": [
    "products.head()"
   ]
  },
  {
   "cell_type": "code",
   "execution_count": 61,
   "id": "5d0f622e-58ce-496f-a273-a23354014b20",
   "metadata": {},
   "outputs": [
    {
     "data": {
      "text/plain": [
       "product_id      0\n",
       "product_name    0\n",
       "category        0\n",
       "price           0\n",
       "dtype: int64"
      ]
     },
     "execution_count": 61,
     "metadata": {},
     "output_type": "execute_result"
    }
   ],
   "source": [
    "products.isnull().sum()"
   ]
  },
  {
   "cell_type": "code",
   "execution_count": 63,
   "id": "b8745b37-5851-494a-9e0f-bc282c6c31da",
   "metadata": {},
   "outputs": [
    {
     "data": {
      "text/plain": [
       "0"
      ]
     },
     "execution_count": 63,
     "metadata": {},
     "output_type": "execute_result"
    }
   ],
   "source": [
    "products.duplicated().sum()"
   ]
  },
  {
   "cell_type": "code",
   "execution_count": 65,
   "id": "dac05cb3-3531-41be-8bdf-2b368e19fa01",
   "metadata": {},
   "outputs": [
    {
     "data": {
      "text/plain": [
       "product_id        int64\n",
       "product_name     object\n",
       "category         object\n",
       "price           float64\n",
       "dtype: object"
      ]
     },
     "execution_count": 65,
     "metadata": {},
     "output_type": "execute_result"
    }
   ],
   "source": [
    "products.dtypes"
   ]
  },
  {
   "cell_type": "code",
   "execution_count": 67,
   "id": "63462c40-4b29-40dd-b716-57016ff5dc45",
   "metadata": {},
   "outputs": [],
   "source": [
    "merged_product_orders = pd.merge(products,orders, on='product_id')"
   ]
  },
  {
   "cell_type": "code",
   "execution_count": 69,
   "id": "66f7ae2c-f665-4126-8348-866445c7b3a2",
   "metadata": {
    "scrolled": true
   },
   "outputs": [
    {
     "data": {
      "text/html": [
       "<div>\n",
       "<style scoped>\n",
       "    .dataframe tbody tr th:only-of-type {\n",
       "        vertical-align: middle;\n",
       "    }\n",
       "\n",
       "    .dataframe tbody tr th {\n",
       "        vertical-align: top;\n",
       "    }\n",
       "\n",
       "    .dataframe thead th {\n",
       "        text-align: right;\n",
       "    }\n",
       "</style>\n",
       "<table border=\"1\" class=\"dataframe\">\n",
       "  <thead>\n",
       "    <tr style=\"text-align: right;\">\n",
       "      <th></th>\n",
       "      <th>product_id</th>\n",
       "      <th>product_name</th>\n",
       "      <th>category</th>\n",
       "      <th>price</th>\n",
       "      <th>order_id</th>\n",
       "      <th>customer_id</th>\n",
       "      <th>order_date</th>\n",
       "      <th>quantity</th>\n",
       "      <th>year</th>\n",
       "      <th>month</th>\n",
       "      <th>day</th>\n",
       "    </tr>\n",
       "  </thead>\n",
       "  <tbody>\n",
       "    <tr>\n",
       "      <th>0</th>\n",
       "      <td>1</td>\n",
       "      <td>Laptop</td>\n",
       "      <td>Electronics</td>\n",
       "      <td>1200.0</td>\n",
       "      <td>2</td>\n",
       "      <td>36</td>\n",
       "      <td>2024-11-01</td>\n",
       "      <td>1</td>\n",
       "      <td>2024</td>\n",
       "      <td>11</td>\n",
       "      <td>1</td>\n",
       "    </tr>\n",
       "    <tr>\n",
       "      <th>1</th>\n",
       "      <td>1</td>\n",
       "      <td>Laptop</td>\n",
       "      <td>Electronics</td>\n",
       "      <td>1200.0</td>\n",
       "      <td>46</td>\n",
       "      <td>4</td>\n",
       "      <td>2024-11-15</td>\n",
       "      <td>1</td>\n",
       "      <td>2024</td>\n",
       "      <td>11</td>\n",
       "      <td>15</td>\n",
       "    </tr>\n",
       "    <tr>\n",
       "      <th>2</th>\n",
       "      <td>2</td>\n",
       "      <td>Smartphone</td>\n",
       "      <td>Electronics</td>\n",
       "      <td>800.0</td>\n",
       "      <td>12</td>\n",
       "      <td>19</td>\n",
       "      <td>2024-11-04</td>\n",
       "      <td>1</td>\n",
       "      <td>2024</td>\n",
       "      <td>11</td>\n",
       "      <td>4</td>\n",
       "    </tr>\n",
       "    <tr>\n",
       "      <th>3</th>\n",
       "      <td>2</td>\n",
       "      <td>Smartphone</td>\n",
       "      <td>Electronics</td>\n",
       "      <td>800.0</td>\n",
       "      <td>55</td>\n",
       "      <td>20</td>\n",
       "      <td>2024-11-18</td>\n",
       "      <td>2</td>\n",
       "      <td>2024</td>\n",
       "      <td>11</td>\n",
       "      <td>18</td>\n",
       "    </tr>\n",
       "    <tr>\n",
       "      <th>4</th>\n",
       "      <td>3</td>\n",
       "      <td>Tablet</td>\n",
       "      <td>Electronics</td>\n",
       "      <td>450.0</td>\n",
       "      <td>1</td>\n",
       "      <td>20</td>\n",
       "      <td>2024-11-01</td>\n",
       "      <td>2</td>\n",
       "      <td>2024</td>\n",
       "      <td>11</td>\n",
       "      <td>1</td>\n",
       "    </tr>\n",
       "    <tr>\n",
       "      <th>5</th>\n",
       "      <td>3</td>\n",
       "      <td>Tablet</td>\n",
       "      <td>Electronics</td>\n",
       "      <td>450.0</td>\n",
       "      <td>21</td>\n",
       "      <td>41</td>\n",
       "      <td>2024-11-07</td>\n",
       "      <td>1</td>\n",
       "      <td>2024</td>\n",
       "      <td>11</td>\n",
       "      <td>7</td>\n",
       "    </tr>\n",
       "    <tr>\n",
       "      <th>6</th>\n",
       "      <td>3</td>\n",
       "      <td>Tablet</td>\n",
       "      <td>Electronics</td>\n",
       "      <td>450.0</td>\n",
       "      <td>47</td>\n",
       "      <td>49</td>\n",
       "      <td>2024-11-16</td>\n",
       "      <td>2</td>\n",
       "      <td>2024</td>\n",
       "      <td>11</td>\n",
       "      <td>16</td>\n",
       "    </tr>\n",
       "    <tr>\n",
       "      <th>7</th>\n",
       "      <td>3</td>\n",
       "      <td>Tablet</td>\n",
       "      <td>Electronics</td>\n",
       "      <td>450.0</td>\n",
       "      <td>57</td>\n",
       "      <td>40</td>\n",
       "      <td>2024-11-19</td>\n",
       "      <td>1</td>\n",
       "      <td>2024</td>\n",
       "      <td>11</td>\n",
       "      <td>19</td>\n",
       "    </tr>\n",
       "    <tr>\n",
       "      <th>8</th>\n",
       "      <td>3</td>\n",
       "      <td>Tablet</td>\n",
       "      <td>Electronics</td>\n",
       "      <td>450.0</td>\n",
       "      <td>74</td>\n",
       "      <td>37</td>\n",
       "      <td>2024-11-24</td>\n",
       "      <td>1</td>\n",
       "      <td>2024</td>\n",
       "      <td>11</td>\n",
       "      <td>24</td>\n",
       "    </tr>\n",
       "    <tr>\n",
       "      <th>9</th>\n",
       "      <td>3</td>\n",
       "      <td>Tablet</td>\n",
       "      <td>Electronics</td>\n",
       "      <td>450.0</td>\n",
       "      <td>83</td>\n",
       "      <td>19</td>\n",
       "      <td>2024-11-27</td>\n",
       "      <td>2</td>\n",
       "      <td>2024</td>\n",
       "      <td>11</td>\n",
       "      <td>27</td>\n",
       "    </tr>\n",
       "    <tr>\n",
       "      <th>10</th>\n",
       "      <td>3</td>\n",
       "      <td>Tablet</td>\n",
       "      <td>Electronics</td>\n",
       "      <td>450.0</td>\n",
       "      <td>99</td>\n",
       "      <td>18</td>\n",
       "      <td>2024-12-03</td>\n",
       "      <td>3</td>\n",
       "      <td>2024</td>\n",
       "      <td>12</td>\n",
       "      <td>3</td>\n",
       "    </tr>\n",
       "    <tr>\n",
       "      <th>11</th>\n",
       "      <td>3</td>\n",
       "      <td>Tablet</td>\n",
       "      <td>Electronics</td>\n",
       "      <td>450.0</td>\n",
       "      <td>110</td>\n",
       "      <td>2</td>\n",
       "      <td>2024-12-06</td>\n",
       "      <td>2</td>\n",
       "      <td>2024</td>\n",
       "      <td>12</td>\n",
       "      <td>6</td>\n",
       "    </tr>\n",
       "    <tr>\n",
       "      <th>12</th>\n",
       "      <td>3</td>\n",
       "      <td>Tablet</td>\n",
       "      <td>Electronics</td>\n",
       "      <td>450.0</td>\n",
       "      <td>120</td>\n",
       "      <td>19</td>\n",
       "      <td>2024-12-10</td>\n",
       "      <td>2</td>\n",
       "      <td>2024</td>\n",
       "      <td>12</td>\n",
       "      <td>10</td>\n",
       "    </tr>\n",
       "    <tr>\n",
       "      <th>13</th>\n",
       "      <td>3</td>\n",
       "      <td>Tablet</td>\n",
       "      <td>Electronics</td>\n",
       "      <td>450.0</td>\n",
       "      <td>134</td>\n",
       "      <td>8</td>\n",
       "      <td>2024-12-14</td>\n",
       "      <td>1</td>\n",
       "      <td>2024</td>\n",
       "      <td>12</td>\n",
       "      <td>14</td>\n",
       "    </tr>\n",
       "    <tr>\n",
       "      <th>14</th>\n",
       "      <td>3</td>\n",
       "      <td>Tablet</td>\n",
       "      <td>Electronics</td>\n",
       "      <td>450.0</td>\n",
       "      <td>151</td>\n",
       "      <td>43</td>\n",
       "      <td>2024-12-20</td>\n",
       "      <td>3</td>\n",
       "      <td>2024</td>\n",
       "      <td>12</td>\n",
       "      <td>20</td>\n",
       "    </tr>\n",
       "    <tr>\n",
       "      <th>15</th>\n",
       "      <td>3</td>\n",
       "      <td>Tablet</td>\n",
       "      <td>Electronics</td>\n",
       "      <td>450.0</td>\n",
       "      <td>161</td>\n",
       "      <td>11</td>\n",
       "      <td>2024-12-23</td>\n",
       "      <td>1</td>\n",
       "      <td>2024</td>\n",
       "      <td>12</td>\n",
       "      <td>23</td>\n",
       "    </tr>\n",
       "    <tr>\n",
       "      <th>16</th>\n",
       "      <td>3</td>\n",
       "      <td>Tablet</td>\n",
       "      <td>Electronics</td>\n",
       "      <td>450.0</td>\n",
       "      <td>173</td>\n",
       "      <td>9</td>\n",
       "      <td>2024-12-27</td>\n",
       "      <td>1</td>\n",
       "      <td>2024</td>\n",
       "      <td>12</td>\n",
       "      <td>27</td>\n",
       "    </tr>\n",
       "    <tr>\n",
       "      <th>17</th>\n",
       "      <td>3</td>\n",
       "      <td>Tablet</td>\n",
       "      <td>Electronics</td>\n",
       "      <td>450.0</td>\n",
       "      <td>186</td>\n",
       "      <td>47</td>\n",
       "      <td>2024-11-01</td>\n",
       "      <td>1</td>\n",
       "      <td>2024</td>\n",
       "      <td>11</td>\n",
       "      <td>1</td>\n",
       "    </tr>\n",
       "    <tr>\n",
       "      <th>18</th>\n",
       "      <td>3</td>\n",
       "      <td>Tablet</td>\n",
       "      <td>Electronics</td>\n",
       "      <td>450.0</td>\n",
       "      <td>202</td>\n",
       "      <td>46</td>\n",
       "      <td>2024-11-06</td>\n",
       "      <td>1</td>\n",
       "      <td>2024</td>\n",
       "      <td>11</td>\n",
       "      <td>6</td>\n",
       "    </tr>\n",
       "    <tr>\n",
       "      <th>19</th>\n",
       "      <td>3</td>\n",
       "      <td>Tablet</td>\n",
       "      <td>Electronics</td>\n",
       "      <td>450.0</td>\n",
       "      <td>208</td>\n",
       "      <td>46</td>\n",
       "      <td>2024-11-08</td>\n",
       "      <td>2</td>\n",
       "      <td>2024</td>\n",
       "      <td>11</td>\n",
       "      <td>8</td>\n",
       "    </tr>\n",
       "  </tbody>\n",
       "</table>\n",
       "</div>"
      ],
      "text/plain": [
       "    product_id product_name     category   price  order_id  customer_id  \\\n",
       "0            1       Laptop  Electronics  1200.0         2           36   \n",
       "1            1       Laptop  Electronics  1200.0        46            4   \n",
       "2            2   Smartphone  Electronics   800.0        12           19   \n",
       "3            2   Smartphone  Electronics   800.0        55           20   \n",
       "4            3       Tablet  Electronics   450.0         1           20   \n",
       "5            3       Tablet  Electronics   450.0        21           41   \n",
       "6            3       Tablet  Electronics   450.0        47           49   \n",
       "7            3       Tablet  Electronics   450.0        57           40   \n",
       "8            3       Tablet  Electronics   450.0        74           37   \n",
       "9            3       Tablet  Electronics   450.0        83           19   \n",
       "10           3       Tablet  Electronics   450.0        99           18   \n",
       "11           3       Tablet  Electronics   450.0       110            2   \n",
       "12           3       Tablet  Electronics   450.0       120           19   \n",
       "13           3       Tablet  Electronics   450.0       134            8   \n",
       "14           3       Tablet  Electronics   450.0       151           43   \n",
       "15           3       Tablet  Electronics   450.0       161           11   \n",
       "16           3       Tablet  Electronics   450.0       173            9   \n",
       "17           3       Tablet  Electronics   450.0       186           47   \n",
       "18           3       Tablet  Electronics   450.0       202           46   \n",
       "19           3       Tablet  Electronics   450.0       208           46   \n",
       "\n",
       "   order_date  quantity  year  month  day  \n",
       "0  2024-11-01         1  2024     11    1  \n",
       "1  2024-11-15         1  2024     11   15  \n",
       "2  2024-11-04         1  2024     11    4  \n",
       "3  2024-11-18         2  2024     11   18  \n",
       "4  2024-11-01         2  2024     11    1  \n",
       "5  2024-11-07         1  2024     11    7  \n",
       "6  2024-11-16         2  2024     11   16  \n",
       "7  2024-11-19         1  2024     11   19  \n",
       "8  2024-11-24         1  2024     11   24  \n",
       "9  2024-11-27         2  2024     11   27  \n",
       "10 2024-12-03         3  2024     12    3  \n",
       "11 2024-12-06         2  2024     12    6  \n",
       "12 2024-12-10         2  2024     12   10  \n",
       "13 2024-12-14         1  2024     12   14  \n",
       "14 2024-12-20         3  2024     12   20  \n",
       "15 2024-12-23         1  2024     12   23  \n",
       "16 2024-12-27         1  2024     12   27  \n",
       "17 2024-11-01         1  2024     11    1  \n",
       "18 2024-11-06         1  2024     11    6  \n",
       "19 2024-11-08         2  2024     11    8  "
      ]
     },
     "execution_count": 69,
     "metadata": {},
     "output_type": "execute_result"
    }
   ],
   "source": [
    "merged_product_orders.head(20)"
   ]
  },
  {
   "cell_type": "code",
   "execution_count": 71,
   "id": "2042873c-faca-4597-96c7-19bd6301cc74",
   "metadata": {},
   "outputs": [],
   "source": [
    "merged_product_orders['total_revenue'] = np.multiply(merged_product_orders['quantity'],merged_product_orders['price'])"
   ]
  },
  {
   "cell_type": "code",
   "execution_count": 73,
   "id": "2eb86256-3177-456f-ab6c-2d584d69e8fc",
   "metadata": {
    "scrolled": true
   },
   "outputs": [
    {
     "data": {
      "text/html": [
       "<div>\n",
       "<style scoped>\n",
       "    .dataframe tbody tr th:only-of-type {\n",
       "        vertical-align: middle;\n",
       "    }\n",
       "\n",
       "    .dataframe tbody tr th {\n",
       "        vertical-align: top;\n",
       "    }\n",
       "\n",
       "    .dataframe thead th {\n",
       "        text-align: right;\n",
       "    }\n",
       "</style>\n",
       "<table border=\"1\" class=\"dataframe\">\n",
       "  <thead>\n",
       "    <tr style=\"text-align: right;\">\n",
       "      <th></th>\n",
       "      <th>product_id</th>\n",
       "      <th>product_name</th>\n",
       "      <th>category</th>\n",
       "      <th>price</th>\n",
       "      <th>order_id</th>\n",
       "      <th>customer_id</th>\n",
       "      <th>order_date</th>\n",
       "      <th>quantity</th>\n",
       "      <th>year</th>\n",
       "      <th>month</th>\n",
       "      <th>day</th>\n",
       "      <th>total_revenue</th>\n",
       "    </tr>\n",
       "  </thead>\n",
       "  <tbody>\n",
       "    <tr>\n",
       "      <th>0</th>\n",
       "      <td>1</td>\n",
       "      <td>Laptop</td>\n",
       "      <td>Electronics</td>\n",
       "      <td>1200.0</td>\n",
       "      <td>2</td>\n",
       "      <td>36</td>\n",
       "      <td>2024-11-01</td>\n",
       "      <td>1</td>\n",
       "      <td>2024</td>\n",
       "      <td>11</td>\n",
       "      <td>1</td>\n",
       "      <td>1200.0</td>\n",
       "    </tr>\n",
       "    <tr>\n",
       "      <th>1</th>\n",
       "      <td>1</td>\n",
       "      <td>Laptop</td>\n",
       "      <td>Electronics</td>\n",
       "      <td>1200.0</td>\n",
       "      <td>46</td>\n",
       "      <td>4</td>\n",
       "      <td>2024-11-15</td>\n",
       "      <td>1</td>\n",
       "      <td>2024</td>\n",
       "      <td>11</td>\n",
       "      <td>15</td>\n",
       "      <td>1200.0</td>\n",
       "    </tr>\n",
       "    <tr>\n",
       "      <th>2</th>\n",
       "      <td>2</td>\n",
       "      <td>Smartphone</td>\n",
       "      <td>Electronics</td>\n",
       "      <td>800.0</td>\n",
       "      <td>12</td>\n",
       "      <td>19</td>\n",
       "      <td>2024-11-04</td>\n",
       "      <td>1</td>\n",
       "      <td>2024</td>\n",
       "      <td>11</td>\n",
       "      <td>4</td>\n",
       "      <td>800.0</td>\n",
       "    </tr>\n",
       "    <tr>\n",
       "      <th>3</th>\n",
       "      <td>2</td>\n",
       "      <td>Smartphone</td>\n",
       "      <td>Electronics</td>\n",
       "      <td>800.0</td>\n",
       "      <td>55</td>\n",
       "      <td>20</td>\n",
       "      <td>2024-11-18</td>\n",
       "      <td>2</td>\n",
       "      <td>2024</td>\n",
       "      <td>11</td>\n",
       "      <td>18</td>\n",
       "      <td>1600.0</td>\n",
       "    </tr>\n",
       "    <tr>\n",
       "      <th>4</th>\n",
       "      <td>3</td>\n",
       "      <td>Tablet</td>\n",
       "      <td>Electronics</td>\n",
       "      <td>450.0</td>\n",
       "      <td>1</td>\n",
       "      <td>20</td>\n",
       "      <td>2024-11-01</td>\n",
       "      <td>2</td>\n",
       "      <td>2024</td>\n",
       "      <td>11</td>\n",
       "      <td>1</td>\n",
       "      <td>900.0</td>\n",
       "    </tr>\n",
       "    <tr>\n",
       "      <th>5</th>\n",
       "      <td>3</td>\n",
       "      <td>Tablet</td>\n",
       "      <td>Electronics</td>\n",
       "      <td>450.0</td>\n",
       "      <td>21</td>\n",
       "      <td>41</td>\n",
       "      <td>2024-11-07</td>\n",
       "      <td>1</td>\n",
       "      <td>2024</td>\n",
       "      <td>11</td>\n",
       "      <td>7</td>\n",
       "      <td>450.0</td>\n",
       "    </tr>\n",
       "    <tr>\n",
       "      <th>6</th>\n",
       "      <td>3</td>\n",
       "      <td>Tablet</td>\n",
       "      <td>Electronics</td>\n",
       "      <td>450.0</td>\n",
       "      <td>47</td>\n",
       "      <td>49</td>\n",
       "      <td>2024-11-16</td>\n",
       "      <td>2</td>\n",
       "      <td>2024</td>\n",
       "      <td>11</td>\n",
       "      <td>16</td>\n",
       "      <td>900.0</td>\n",
       "    </tr>\n",
       "    <tr>\n",
       "      <th>7</th>\n",
       "      <td>3</td>\n",
       "      <td>Tablet</td>\n",
       "      <td>Electronics</td>\n",
       "      <td>450.0</td>\n",
       "      <td>57</td>\n",
       "      <td>40</td>\n",
       "      <td>2024-11-19</td>\n",
       "      <td>1</td>\n",
       "      <td>2024</td>\n",
       "      <td>11</td>\n",
       "      <td>19</td>\n",
       "      <td>450.0</td>\n",
       "    </tr>\n",
       "    <tr>\n",
       "      <th>8</th>\n",
       "      <td>3</td>\n",
       "      <td>Tablet</td>\n",
       "      <td>Electronics</td>\n",
       "      <td>450.0</td>\n",
       "      <td>74</td>\n",
       "      <td>37</td>\n",
       "      <td>2024-11-24</td>\n",
       "      <td>1</td>\n",
       "      <td>2024</td>\n",
       "      <td>11</td>\n",
       "      <td>24</td>\n",
       "      <td>450.0</td>\n",
       "    </tr>\n",
       "    <tr>\n",
       "      <th>9</th>\n",
       "      <td>3</td>\n",
       "      <td>Tablet</td>\n",
       "      <td>Electronics</td>\n",
       "      <td>450.0</td>\n",
       "      <td>83</td>\n",
       "      <td>19</td>\n",
       "      <td>2024-11-27</td>\n",
       "      <td>2</td>\n",
       "      <td>2024</td>\n",
       "      <td>11</td>\n",
       "      <td>27</td>\n",
       "      <td>900.0</td>\n",
       "    </tr>\n",
       "  </tbody>\n",
       "</table>\n",
       "</div>"
      ],
      "text/plain": [
       "   product_id product_name     category   price  order_id  customer_id  \\\n",
       "0           1       Laptop  Electronics  1200.0         2           36   \n",
       "1           1       Laptop  Electronics  1200.0        46            4   \n",
       "2           2   Smartphone  Electronics   800.0        12           19   \n",
       "3           2   Smartphone  Electronics   800.0        55           20   \n",
       "4           3       Tablet  Electronics   450.0         1           20   \n",
       "5           3       Tablet  Electronics   450.0        21           41   \n",
       "6           3       Tablet  Electronics   450.0        47           49   \n",
       "7           3       Tablet  Electronics   450.0        57           40   \n",
       "8           3       Tablet  Electronics   450.0        74           37   \n",
       "9           3       Tablet  Electronics   450.0        83           19   \n",
       "\n",
       "  order_date  quantity  year  month  day  total_revenue  \n",
       "0 2024-11-01         1  2024     11    1         1200.0  \n",
       "1 2024-11-15         1  2024     11   15         1200.0  \n",
       "2 2024-11-04         1  2024     11    4          800.0  \n",
       "3 2024-11-18         2  2024     11   18         1600.0  \n",
       "4 2024-11-01         2  2024     11    1          900.0  \n",
       "5 2024-11-07         1  2024     11    7          450.0  \n",
       "6 2024-11-16         2  2024     11   16          900.0  \n",
       "7 2024-11-19         1  2024     11   19          450.0  \n",
       "8 2024-11-24         1  2024     11   24          450.0  \n",
       "9 2024-11-27         2  2024     11   27          900.0  "
      ]
     },
     "execution_count": 73,
     "metadata": {},
     "output_type": "execute_result"
    }
   ],
   "source": [
    "merged_product_orders.head(10)"
   ]
  },
  {
   "cell_type": "code",
   "execution_count": 106,
   "id": "a9f1f0ca-7ada-4a00-a558-40b925eb01dc",
   "metadata": {
    "scrolled": true
   },
   "outputs": [
    {
     "name": "stdout",
     "output_type": "stream",
     "text": [
      "<class 'pandas.core.frame.DataFrame'>\n",
      "RangeIndex: 570 entries, 0 to 569\n",
      "Data columns (total 12 columns):\n",
      " #   Column         Non-Null Count  Dtype         \n",
      "---  ------         --------------  -----         \n",
      " 0   product_id     570 non-null    int64         \n",
      " 1   product_name   570 non-null    object        \n",
      " 2   category       570 non-null    object        \n",
      " 3   price          570 non-null    float64       \n",
      " 4   order_id       570 non-null    int64         \n",
      " 5   customer_id    570 non-null    int64         \n",
      " 6   order_date     570 non-null    datetime64[ns]\n",
      " 7   quantity       570 non-null    int64         \n",
      " 8   year           570 non-null    int32         \n",
      " 9   month          570 non-null    int32         \n",
      " 10  day            570 non-null    int32         \n",
      " 11  total_revenue  570 non-null    float64       \n",
      "dtypes: datetime64[ns](1), float64(2), int32(3), int64(4), object(2)\n",
      "memory usage: 46.9+ KB\n"
     ]
    }
   ],
   "source": [
    "merged_product_orders.info()"
   ]
  },
  {
   "cell_type": "code",
   "execution_count": 76,
   "id": "269284aa-dc16-402d-be47-3e989fe5675e",
   "metadata": {},
   "outputs": [],
   "source": [
    "monthly_sales = merged_product_orders.groupby('month').total_revenue.sum().reset_index()"
   ]
  },
  {
   "cell_type": "code",
   "execution_count": 78,
   "id": "3924e15e-1611-48e5-b312-36ed35e74b5c",
   "metadata": {},
   "outputs": [
    {
     "data": {
      "text/html": [
       "<div>\n",
       "<style scoped>\n",
       "    .dataframe tbody tr th:only-of-type {\n",
       "        vertical-align: middle;\n",
       "    }\n",
       "\n",
       "    .dataframe tbody tr th {\n",
       "        vertical-align: top;\n",
       "    }\n",
       "\n",
       "    .dataframe thead th {\n",
       "        text-align: right;\n",
       "    }\n",
       "</style>\n",
       "<table border=\"1\" class=\"dataframe\">\n",
       "  <thead>\n",
       "    <tr style=\"text-align: right;\">\n",
       "      <th></th>\n",
       "      <th>month</th>\n",
       "      <th>total_revenue</th>\n",
       "    </tr>\n",
       "  </thead>\n",
       "  <tbody>\n",
       "    <tr>\n",
       "      <th>0</th>\n",
       "      <td>1</td>\n",
       "      <td>22080.5</td>\n",
       "    </tr>\n",
       "    <tr>\n",
       "      <th>1</th>\n",
       "      <td>2</td>\n",
       "      <td>18950.0</td>\n",
       "    </tr>\n",
       "    <tr>\n",
       "      <th>2</th>\n",
       "      <td>3</td>\n",
       "      <td>5182.0</td>\n",
       "    </tr>\n",
       "    <tr>\n",
       "      <th>3</th>\n",
       "      <td>11</td>\n",
       "      <td>70954.5</td>\n",
       "    </tr>\n",
       "    <tr>\n",
       "      <th>4</th>\n",
       "      <td>12</td>\n",
       "      <td>61903.5</td>\n",
       "    </tr>\n",
       "  </tbody>\n",
       "</table>\n",
       "</div>"
      ],
      "text/plain": [
       "   month  total_revenue\n",
       "0      1        22080.5\n",
       "1      2        18950.0\n",
       "2      3         5182.0\n",
       "3     11        70954.5\n",
       "4     12        61903.5"
      ]
     },
     "execution_count": 78,
     "metadata": {},
     "output_type": "execute_result"
    }
   ],
   "source": [
    "monthly_sales.head()"
   ]
  },
  {
   "cell_type": "code",
   "execution_count": 80,
   "id": "bb82674d-2c97-4049-ba7e-933adaddc940",
   "metadata": {},
   "outputs": [
    {
     "data": {
      "image/png": "[encoded data removed]",
      "text/plain": [
       "<Figure size 1000x500 with 1 Axes>"
      ]
     },
     "metadata": {},
     "output_type": "display_data"
    }
   ],
   "source": [
    "# Plotting\n",
    "plt.figure(figsize=(10, 5))\n",
    "plt.plot(monthly_sales['month'], monthly_sales['total_revenue'], marker='o', linestyle='-')\n",
    "plt.title('Monthly Sales Trend')\n",
    "plt.xlabel('Month')\n",
    "plt.ylabel('Total Revenue')\n",
    "plt.xticks(rotation=45)\n",
    "plt.grid()\n",
    "plt.tight_layout()\n",
    "plt.show()"
   ]
  },
  {
   "cell_type": "code",
   "execution_count": 110,
   "id": "f8d30495-20ff-45ad-aa83-ef5f396e4ce2",
   "metadata": {},
   "outputs": [],
   "source": [
    "suppliers_data = pd.read_csv('suppliers_data.csv')"
   ]
  },
  {
   "cell_type": "code",
   "execution_count": 112,
   "id": "f5edaedc-6675-4d5f-af45-b5db156728e9",
   "metadata": {},
   "outputs": [
    {
     "data": {
      "text/html": [
       "<div>\n",
       "<style scoped>\n",
       "    .dataframe tbody tr th:only-of-type {\n",
       "        vertical-align: middle;\n",
       "    }\n",
       "\n",
       "    .dataframe tbody tr th {\n",
       "        vertical-align: top;\n",
       "    }\n",
       "\n",
       "    .dataframe thead th {\n",
       "        text-align: right;\n",
       "    }\n",
       "</style>\n",
       "<table border=\"1\" class=\"dataframe\">\n",
       "  <thead>\n",
       "    <tr style=\"text-align: right;\">\n",
       "      <th></th>\n",
       "      <th>supplier_name</th>\n",
       "      <th>supplier_address</th>\n",
       "      <th>email</th>\n",
       "      <th>contact_number</th>\n",
       "      <th>fax</th>\n",
       "      <th>account_number</th>\n",
       "      <th>order_history</th>\n",
       "      <th>contract</th>\n",
       "      <th>supplier_country</th>\n",
       "      <th>supplier_city</th>\n",
       "      <th>country_code</th>\n",
       "    </tr>\n",
       "  </thead>\n",
       "  <tbody>\n",
       "    <tr>\n",
       "      <th>0</th>\n",
       "      <td>Supplier D</td>\n",
       "      <td>321 Pine St</td>\n",
       "      <td>supplierD@example.com</td>\n",
       "      <td>4567890123</td>\n",
       "      <td>3987654318</td>\n",
       "      <td>44445555</td>\n",
       "      <td>468</td>\n",
       "      <td>No</td>\n",
       "      <td>Germany</td>\n",
       "      <td>Berlin</td>\n",
       "      <td>49</td>\n",
       "    </tr>\n",
       "    <tr>\n",
       "      <th>1</th>\n",
       "      <td>Supplier D</td>\n",
       "      <td>321 Pine St</td>\n",
       "      <td>supplierD@example.com</td>\n",
       "      <td>4567890123</td>\n",
       "      <td>3987654318</td>\n",
       "      <td>44445555</td>\n",
       "      <td>61</td>\n",
       "      <td>No</td>\n",
       "      <td>Germany</td>\n",
       "      <td>Berlin</td>\n",
       "      <td>49</td>\n",
       "    </tr>\n",
       "    <tr>\n",
       "      <th>2</th>\n",
       "      <td>Supplier D</td>\n",
       "      <td>321 Pine St</td>\n",
       "      <td>supplierD@example.com</td>\n",
       "      <td>4567890123</td>\n",
       "      <td>3987654318</td>\n",
       "      <td>44445555</td>\n",
       "      <td>88</td>\n",
       "      <td>No</td>\n",
       "      <td>Germany</td>\n",
       "      <td>Berlin</td>\n",
       "      <td>49</td>\n",
       "    </tr>\n",
       "    <tr>\n",
       "      <th>3</th>\n",
       "      <td>Supplier A</td>\n",
       "      <td>123 Main St</td>\n",
       "      <td>supplierA@example.com</td>\n",
       "      <td>1234567890</td>\n",
       "      <td>987654321</td>\n",
       "      <td>11112222</td>\n",
       "      <td>353</td>\n",
       "      <td>Yes</td>\n",
       "      <td>USA</td>\n",
       "      <td>New York</td>\n",
       "      <td>1</td>\n",
       "    </tr>\n",
       "    <tr>\n",
       "      <th>4</th>\n",
       "      <td>Supplier D</td>\n",
       "      <td>321 Pine St</td>\n",
       "      <td>supplierD@example.com</td>\n",
       "      <td>4567890123</td>\n",
       "      <td>3987654318</td>\n",
       "      <td>44445555</td>\n",
       "      <td>547</td>\n",
       "      <td>No</td>\n",
       "      <td>Germany</td>\n",
       "      <td>Berlin</td>\n",
       "      <td>49</td>\n",
       "    </tr>\n",
       "  </tbody>\n",
       "</table>\n",
       "</div>"
      ],
      "text/plain": [
       "  supplier_name supplier_address                  email  contact_number  \\\n",
       "0    Supplier D      321 Pine St  supplierD@example.com      4567890123   \n",
       "1    Supplier D      321 Pine St  supplierD@example.com      4567890123   \n",
       "2    Supplier D      321 Pine St  supplierD@example.com      4567890123   \n",
       "3    Supplier A      123 Main St  supplierA@example.com      1234567890   \n",
       "4    Supplier D      321 Pine St  supplierD@example.com      4567890123   \n",
       "\n",
       "          fax  account_number  order_history contract supplier_country  \\\n",
       "0  3987654318        44445555            468       No          Germany   \n",
       "1  3987654318        44445555             61       No          Germany   \n",
       "2  3987654318        44445555             88       No          Germany   \n",
       "3   987654321        11112222            353      Yes              USA   \n",
       "4  3987654318        44445555            547       No          Germany   \n",
       "\n",
       "  supplier_city  country_code  \n",
       "0        Berlin            49  \n",
       "1        Berlin            49  \n",
       "2        Berlin            49  \n",
       "3      New York             1  \n",
       "4        Berlin            49  "
      ]
     },
     "execution_count": 112,
     "metadata": {},
     "output_type": "execute_result"
    }
   ],
   "source": [
    "suppliers_data.head()"
   ]
  },
  {
   "cell_type": "code",
   "execution_count": 114,
   "id": "39d4336e-0d6d-4dbb-bd1b-662e3f4a7a65",
   "metadata": {},
   "outputs": [
    {
     "data": {
      "text/plain": [
       "supplier_name       0\n",
       "supplier_address    0\n",
       "email               0\n",
       "contact_number      0\n",
       "fax                 0\n",
       "account_number      0\n",
       "order_history       0\n",
       "contract            0\n",
       "supplier_country    0\n",
       "supplier_city       0\n",
       "country_code        0\n",
       "dtype: int64"
      ]
     },
     "execution_count": 114,
     "metadata": {},
     "output_type": "execute_result"
    }
   ],
   "source": [
    "suppliers_data.isnull().sum()"
   ]
  },
  {
   "cell_type": "code",
   "execution_count": 116,
   "id": "17b57b67-d9cd-4419-979c-479f422fc093",
   "metadata": {},
   "outputs": [
    {
     "data": {
      "text/plain": [
       "0"
      ]
     },
     "execution_count": 116,
     "metadata": {},
     "output_type": "execute_result"
    }
   ],
   "source": [
    "suppliers_data.duplicated().sum()"
   ]
  },
  {
   "cell_type": "code",
   "execution_count": 118,
   "id": "3d50b382-b81d-4517-8b10-2e4cc913aa34",
   "metadata": {},
   "outputs": [
    {
     "data": {
      "text/plain": [
       "supplier_name       object\n",
       "supplier_address    object\n",
       "email               object\n",
       "contact_number       int64\n",
       "fax                  int64\n",
       "account_number       int64\n",
       "order_history        int64\n",
       "contract            object\n",
       "supplier_country    object\n",
       "supplier_city       object\n",
       "country_code         int64\n",
       "dtype: object"
      ]
     },
     "execution_count": 118,
     "metadata": {},
     "output_type": "execute_result"
    }
   ],
   "source": [
    "suppliers_data.dtypes"
   ]
  },
  {
   "cell_type": "code",
   "execution_count": 92,
   "id": "4182a6f8-03ba-46f7-ba8c-564dcff09b05",
   "metadata": {},
   "outputs": [],
   "source": [
    "# Calculating for the total revenue for each order\n",
    "# data = {orders[[\"order_id\",'quantity']],products.price}\n"
   ]
  },
  {
   "cell_type": "code",
   "execution_count": 115,
   "id": "3bb45d77-046b-495c-8561-643fd283ce41",
   "metadata": {},
   "outputs": [],
   "source": [
    "# connection = None\n",
    "\n",
    "# try:\n",
    "#     connection =  mysql.connector.connect(\n",
    "#         host= \"localhost\",\n",
    "#         user = 'root',\n",
    "#         password = 'mrmac',\n",
    "#         database = 'ShopEase'\n",
    "#     )\n",
    "    \n",
    "#     if connection.is_connected():\n",
    "#         cursor = connection.cursor()\n",
    "#         for index, row in customer_data.iterrows():\n",
    "#             cursor.execute(\"\"\"\n",
    "#                 INSERT INTO customers (customer_id,customer_name,email,join_date)\n",
    "#                 VALUES (%s, %s, %s, %s)\n",
    "#             \"\"\", (row['customer_id'], row['customer_name'], row['email'], \n",
    "#                   row['join_date']\n",
    "#                   ))\n",
    "#             connection.commit()\n",
    "\n",
    "# except Error as e:\n",
    "#         print(f\"Error: {e}\")\n",
    "#         connection.rollback()\n",
    "# finally:\n",
    "#         if connection and connection.is_connected():\n",
    "#             cursor.close()"
   ]
  },
  {
   "cell_type": "code",
   "execution_count": 94,
   "id": "b03f05ee-c9ab-42b9-86e2-cf381c4adbe8",
   "metadata": {},
   "outputs": [
    {
     "data": {
      "text/plain": [
       "pandas.core.frame.DataFrame"
      ]
     },
     "execution_count": 94,
     "metadata": {},
     "output_type": "execute_result"
    }
   ],
   "source": [
    "type(customer_data)"
   ]
  },
  {
   "cell_type": "code",
   "execution_count": 122,
   "id": "80dd8b5e-15b7-469e-915f-aacde6c6a77b",
   "metadata": {},
   "outputs": [
    {
     "name": "stdout",
     "output_type": "stream",
     "text": [
      "Connected to MySQL database.\n",
      "Data imported into suppliers_data successfully.\n"
     ]
    }
   ],
   "source": [
    "import os\n",
    "import pandas as pd\n",
    "import mysql.connector\n",
    "from mysql.connector import Error\n",
    "\n",
    "def connect_to_mysql():\n",
    "    \"\"\"Connect to MySQL database using environment variables.\"\"\"\n",
    "    try:\n",
    "        conn = mysql.connector.connect(\n",
    "            host='localhost',\n",
    "            user='****',\n",
    "            password='**********',\n",
    "            database='ShopEase'\n",
    "        )\n",
    "        if conn.is_connected():\n",
    "            print(\"Connected to MySQL database.\")\n",
    "            return conn\n",
    "    except Error as e:\n",
    "        print(f\"Error: {e}\")\n",
    "        return None\n",
    "\n",
    "def import_dataframe_to_mysql(df, table_name, connection):\n",
    "    \"\"\"Import data from DataFrame into MySQL table.\"\"\"\n",
    "    try:\n",
    "        # Create a cursor\n",
    "        cursor = connection.cursor()\n",
    "\n",
    "        # Prepare the SQL query\n",
    "        cols = ', '.join(df.columns)\n",
    "        placeholders = ', '.join(['%s'] * len(df.columns))\n",
    "        sql = f\"INSERT INTO {table_name} ({cols}) VALUES ({placeholders}) \"\n",
    "        # ON DUPLICATE KEY UPDATE order_detail_id = VALUES(order_detail_id)\n",
    "        \n",
    "        # Insert each row\n",
    "        for index, row in df.iterrows():\n",
    "            cursor.execute(sql, tuple(row))\n",
    "\n",
    "        # Commit the transaction\n",
    "        connection.commit()\n",
    "        print(f\"Data imported into {table_name} successfully.\")\n",
    "    except Error as e:\n",
    "        print(f\"Error importing data into {table_name}: {e}\")\n",
    "    finally:\n",
    "        cursor.close()\n",
    "\n",
    "if __name__ == \"__main__\":\n",
    "    connection = connect_to_mysql()\n",
    "\n",
    "    # Dictionary of DataFrames and corresponding table names\n",
    "    tables = {\n",
    "        # 'customers':customer_data,\n",
    "        # 'products': products,\n",
    "        # 'orders': orders,\n",
    "        # 'order_items': orders_item,\n",
    "        'suppliers_data': suppliers_data\n",
    "        # 'inventors': inventors,\n",
    "        \n",
    "        \n",
    "    }\n",
    "\n",
    "    # Import each DataFrame into the corresponding table\n",
    "    if connection:\n",
    "        for table_name, df in tables.items():\n",
    "            import_dataframe_to_mysql(df, table_name, connection)\n",
    "\n",
    "        # Close the connection\n",
    "        connection.close()"
   ]
  },
  {
   "cell_type": "code",
   "execution_count": 104,
   "id": "db09a5a2-569c-4cc8-b801-06b0af046210",
   "metadata": {},
   "outputs": [
    {
     "data": {
      "text/html": [
       "<div>\n",
       "<style scoped>\n",
       "    .dataframe tbody tr th:only-of-type {\n",
       "        vertical-align: middle;\n",
       "    }\n",
       "\n",
       "    .dataframe tbody tr th {\n",
       "        vertical-align: top;\n",
       "    }\n",
       "\n",
       "    .dataframe thead th {\n",
       "        text-align: right;\n",
       "    }\n",
       "</style>\n",
       "<table border=\"1\" class=\"dataframe\">\n",
       "  <thead>\n",
       "    <tr style=\"text-align: right;\">\n",
       "      <th></th>\n",
       "      <th>order_detail_id</th>\n",
       "      <th>order_id</th>\n",
       "      <th>quantity</th>\n",
       "      <th>product_id</th>\n",
       "    </tr>\n",
       "  </thead>\n",
       "  <tbody>\n",
       "    <tr>\n",
       "      <th>0</th>\n",
       "      <td>1</td>\n",
       "      <td>1</td>\n",
       "      <td>3</td>\n",
       "      <td>34</td>\n",
       "    </tr>\n",
       "    <tr>\n",
       "      <th>1</th>\n",
       "      <td>2</td>\n",
       "      <td>1</td>\n",
       "      <td>2</td>\n",
       "      <td>47</td>\n",
       "    </tr>\n",
       "    <tr>\n",
       "      <th>2</th>\n",
       "      <td>3</td>\n",
       "      <td>2</td>\n",
       "      <td>4</td>\n",
       "      <td>10</td>\n",
       "    </tr>\n",
       "    <tr>\n",
       "      <th>3</th>\n",
       "      <td>4</td>\n",
       "      <td>2</td>\n",
       "      <td>3</td>\n",
       "      <td>77</td>\n",
       "    </tr>\n",
       "    <tr>\n",
       "      <th>4</th>\n",
       "      <td>5</td>\n",
       "      <td>3</td>\n",
       "      <td>2</td>\n",
       "      <td>76</td>\n",
       "    </tr>\n",
       "    <tr>\n",
       "      <th>...</th>\n",
       "      <td>...</td>\n",
       "      <td>...</td>\n",
       "      <td>...</td>\n",
       "      <td>...</td>\n",
       "    </tr>\n",
       "    <tr>\n",
       "      <th>1346</th>\n",
       "      <td>1346</td>\n",
       "      <td>673</td>\n",
       "      <td>3</td>\n",
       "      <td>97</td>\n",
       "    </tr>\n",
       "    <tr>\n",
       "      <th>1347</th>\n",
       "      <td>1347</td>\n",
       "      <td>674</td>\n",
       "      <td>2</td>\n",
       "      <td>90</td>\n",
       "    </tr>\n",
       "    <tr>\n",
       "      <th>1348</th>\n",
       "      <td>1348</td>\n",
       "      <td>674</td>\n",
       "      <td>1</td>\n",
       "      <td>60</td>\n",
       "    </tr>\n",
       "    <tr>\n",
       "      <th>1349</th>\n",
       "      <td>1349</td>\n",
       "      <td>675</td>\n",
       "      <td>5</td>\n",
       "      <td>50</td>\n",
       "    </tr>\n",
       "    <tr>\n",
       "      <th>1350</th>\n",
       "      <td>1350</td>\n",
       "      <td>675</td>\n",
       "      <td>4</td>\n",
       "      <td>28</td>\n",
       "    </tr>\n",
       "  </tbody>\n",
       "</table>\n",
       "<p>1351 rows × 4 columns</p>\n",
       "</div>"
      ],
      "text/plain": [
       "      order_detail_id  order_id  quantity  product_id\n",
       "0                   1         1         3          34\n",
       "1                   2         1         2          47\n",
       "2                   3         2         4          10\n",
       "3                   4         2         3          77\n",
       "4                   5         3         2          76\n",
       "...               ...       ...       ...         ...\n",
       "1346             1346       673         3          97\n",
       "1347             1347       674         2          90\n",
       "1348             1348       674         1          60\n",
       "1349             1349       675         5          50\n",
       "1350             1350       675         4          28\n",
       "\n",
       "[1351 rows x 4 columns]"
      ]
     },
     "execution_count": 104,
     "metadata": {},
     "output_type": "execute_result"
    }
   ],
   "source": [
    "orders_item"
   ]
  },
  {
   "cell_type": "code",
   "execution_count": 123,
   "id": "ec742590-e501-42e9-b6dd-8395940fd664",
   "metadata": {},
   "outputs": [
    {
     "data": {
      "text/plain": [
       "1"
      ]
     },
     "execution_count": 123,
     "metadata": {},
     "output_type": "execute_result"
    }
   ],
   "source": [
    "orders_item.order_detail_id.duplicated().sum()"
   ]
  },
  {
   "cell_type": "code",
   "execution_count": null,
   "id": "56a5b014-7d03-4704-ba98-7056e452a2b5",
   "metadata": {},
   "outputs": [],
   "source": [
    "orders_item.order_detail_id = orders_item.order_detail_id.drop_duplicates()"
   ]
  },
  {
   "cell_type": "code",
   "execution_count": null,
   "id": "0120129b-c08a-4a8b-a7ba-7801ff3fc929",
   "metadata": {},
   "outputs": [],
   "source": [
    "products.head()"
   ]
  },
  {
   "cell_type": "code",
   "execution_count": null,
   "id": "55eae714-28fe-41b9-866f-8cc1742a1cc9",
   "metadata": {},
   "outputs": [],
   "source": []
  }
 ],
 "metadata": {
  "kernelspec": {
   "display_name": "Python 3 (ipykernel)",
   "language": "python",
   "name": "python3"
  },
  "language_info": {
   "codemirror_mode": {
    "name": "ipython",
    "version": 3
   },
   "file_extension": ".py",
   "mimetype": "text/x-python",
   "name": "python",
   "nbconvert_exporter": "python",
   "pygments_lexer": "ipython3",
   "version": "3.12.7"
  }
 },
 "nbformat": 4,
 "nbformat_minor": 5
}
